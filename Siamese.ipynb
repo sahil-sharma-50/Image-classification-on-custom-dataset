{
  "cells": [
    {
      "cell_type": "code",
      "execution_count": null,
      "id": "079231a7",
      "metadata": {
        "id": "079231a7"
      },
      "outputs": [],
      "source": [
        "import flickrapi\n",
        "import urllib\n",
        "from PIL import Image\n",
        "import os\n",
        "from tqdm.notebook import tqdm, trange\n",
        "import time"
      ]
    },
    {
      "cell_type": "code",
      "execution_count": null,
      "id": "44e4456f",
      "metadata": {
        "id": "44e4456f"
      },
      "outputs": [],
      "source": [
        "key = 'c6a2c45591d4973ff525042472446ca2'\n",
        "secret = '202ffe6f387ce29b'"
      ]
    },
    {
      "cell_type": "code",
      "execution_count": null,
      "id": "9a4c4e8a",
      "metadata": {
        "id": "9a4c4e8a"
      },
      "outputs": [],
      "source": [
        "flickr=flickrapi.FlickrAPI(key, secret, cache=True)\n",
        "keyword = 'Siamese Fighting Fish'\n",
        "photos = flickr.walk(text=keyword,\n",
        "                     tag_mode='all',\n",
        "                     tags=keyword,\n",
        "                     extras='url_c',\n",
        "                     per_page=100,\n",
        "                     sort='relevance')\n",
        "\n",
        "urls = []\n",
        "total = 0\n",
        "siamese_dir = 'Siamese'\n",
        "for i, photo in enumerate(photos):\n",
        "    if total == 1000:\n",
        "        break\n",
        "    try:\n",
        "        url = photo.get('url_c')\n",
        "        urls.append(url)\n",
        "        filepath = os.path.join(siamese_dir, f'siamese_{total}.jpg')\n",
        "        urllib.request.urlretrieve(url, filepath)\n",
        "        image = Image.open(siamese_dir+'/'+f'siamese_{total}.jpg')\n",
        "        image = image.resize((256, 256), Image.Resampling.LANCZOS)\n",
        "        image.save(siamese_dir+'/'+f'siamese_{total}.jpg')\n",
        "        total += 1\n",
        "    except:\n",
        "        pass"
      ]
    },
    {
      "cell_type": "code",
      "execution_count": null,
      "id": "3532231a",
      "metadata": {
        "id": "3532231a"
      },
      "outputs": [],
      "source": []
    }
  ],
  "metadata": {
    "kernelspec": {
      "display_name": "Python 3 (ipykernel)",
      "language": "python",
      "name": "python3"
    },
    "language_info": {
      "codemirror_mode": {
        "name": "ipython",
        "version": 3
      },
      "file_extension": ".py",
      "mimetype": "text/x-python",
      "name": "python",
      "nbconvert_exporter": "python",
      "pygments_lexer": "ipython3",
      "version": "3.10.4"
    },
    "colab": {
      "provenance": []
    }
  },
  "nbformat": 4,
  "nbformat_minor": 5
}