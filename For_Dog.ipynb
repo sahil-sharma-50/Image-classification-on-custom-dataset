{
  "cells": [
    {
      "cell_type": "code",
      "execution_count": null,
      "id": "6ac2df4a",
      "metadata": {
        "id": "6ac2df4a"
      },
      "outputs": [],
      "source": [
        "import flickrapi\n",
        "import urllib\n",
        "from PIL import Image\n",
        "import os"
      ]
    },
    {
      "cell_type": "code",
      "execution_count": null,
      "id": "a05800da",
      "metadata": {
        "id": "a05800da"
      },
      "outputs": [],
      "source": [
        "key = 'c6a2c45591d4973ff525042472446ca2'\n",
        "secret = '202ffe6f387ce29b'"
      ]
    },
    {
      "cell_type": "code",
      "execution_count": null,
      "id": "63b57db9",
      "metadata": {
        "id": "63b57db9"
      },
      "outputs": [],
      "source": [
        "flickr=flickrapi.FlickrAPI(key, secret, cache=True)\n",
        "keyword = 'dog'\n",
        "photos = flickr.walk(text=keyword,\n",
        "                     tag_mode='all',\n",
        "                     tags=keyword,\n",
        "                     extras='url_c',\n",
        "                     per_page=100,\n",
        "                     sort='relevance')\n",
        "\n",
        "urls = []\n",
        "total = 0\n",
        "dog_dir = 'Dog'\n",
        "for i, photo in enumerate(photos):\n",
        "    if total == 1000:\n",
        "        break\n",
        "    try:\n",
        "        url = photo.get('url_c')\n",
        "        urls.append(url)\n",
        "        filepath = os.path.join(dog_dir, f'dog_{total}.jpg')\n",
        "        urllib.request.urlretrieve(url, filepath)\n",
        "        image = Image.open(dog_dir+'/'+f'dog_{total}.jpg')\n",
        "        image = image.resize((256, 256), Image.Resampling.LANCZOS)\n",
        "        image.save(dog_dir+'/'+f'dog_{total}.jpg')\n",
        "        total += 1\n",
        "    except:\n",
        "        pass"
      ]
    },
    {
      "cell_type": "code",
      "execution_count": null,
      "id": "e5f0822e",
      "metadata": {
        "id": "e5f0822e"
      },
      "outputs": [],
      "source": []
    }
  ],
  "metadata": {
    "kernelspec": {
      "display_name": "Python 3 (ipykernel)",
      "language": "python",
      "name": "python3"
    },
    "language_info": {
      "codemirror_mode": {
        "name": "ipython",
        "version": 3
      },
      "file_extension": ".py",
      "mimetype": "text/x-python",
      "name": "python",
      "nbconvert_exporter": "python",
      "pygments_lexer": "ipython3",
      "version": "3.10.4"
    },
    "colab": {
      "provenance": []
    }
  },
  "nbformat": 4,
  "nbformat_minor": 5
}