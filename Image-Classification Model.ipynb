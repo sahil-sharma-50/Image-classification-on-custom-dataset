{
  "cells": [
    {
      "cell_type": "code",
      "execution_count": null,
      "metadata": {
        "id": "5-POoyHAdw19"
      },
      "outputs": [],
      "source": [
        "import os\n",
        "import PIL\n",
        "import pathlib\n",
        "import requests\n",
        "import tensorflow as tf\n",
        "from tensorflow import keras\n",
        "from tensorflow.keras.applications import ResNet50\n",
        "from tensorflow.keras import layers\n",
        "from tensorflow.python.keras.layers import Dense, Flatten, Dropout\n",
        "from tensorflow.keras.models import Sequential\n",
        "from tensorflow.keras.optimizers import Adam\n",
        "from google.colab import drive\n",
        "from sklearn.metrics import accuracy_score"
      ]
    },
    {
      "cell_type": "markdown",
      "metadata": {
        "id": "nNzk2U19PKnu"
      },
      "source": [
        "# Telegram Bot"
      ]
    },
    {
      "cell_type": "code",
      "execution_count": null,
      "metadata": {
        "id": "VvGUqaLVPI1H"
      },
      "outputs": [],
      "source": [
        "personal_token = \"5659698721:AAG7KgUeQiMP42oIGOvQtPouTLnCwbPNhnA\""
      ]
    },
    {
      "cell_type": "code",
      "execution_count": null,
      "metadata": {
        "id": "9UEg6X4MorZJ"
      },
      "outputs": [],
      "source": [
        "class botCallback(tf.keras.callbacks.Callback):\n",
        "  def __init__(self,personal_token):\n",
        "    self.personal_token = personal_token\n",
        "    self.ping_url = 'https://api.telegram.org/bot'+str(self.personal_token)+'/getUpdates'\n",
        "    self.response = requests.get(self.ping_url).json()\n",
        "    self.chat_id = self.response['result'][0]['message']['chat']['id']\n",
        "    self.last_message_id = self.response['result'][-1][\"message\"][\"message_id\"]\n",
        "\n",
        "  def send_message(self,message):\n",
        "    self.ping_url = 'https://api.telegram.org/bot'+str(self.personal_token)+'/sendMessage?'+\\\n",
        "                    'chat_id='+str(self.chat_id)+\\\n",
        "                    '&parse_mode=Markdown'+\\\n",
        "                    '&text='+message\n",
        "    self.response = requests.get(self.ping_url)\n",
        "\n",
        "  def check_stop(self):\n",
        "    self.ping_url = 'https://api.telegram.org/bot'+str(self.personal_token)+'/getUpdates'\n",
        "    self.response = requests.get(self.ping_url).json()\n",
        "    self.msg = self.response['result'][-1][\"message\"][\"text\"]\n",
        "    self.message_id = self.response['result'][-1][\"message\"][\"message_id\"]\n",
        "    if self.message_id != self.last_message_id and self.msg == 'stop':\n",
        "      self.model.stop_training = True\n",
        "      self.send_message(\"Training Stopped!\")\n",
        "    else:\n",
        "      self.model.stop_training = None\n",
        "    self.last_message_id = self.message_id\n",
        "\n",
        "  def on_train_begin(self, logs=None):\n",
        "    self.send_message(\"Training Begins!\")\n",
        "\n",
        "  def on_epoch_end(self, epoch, epoch_logs):\n",
        "    message = ' epoch {}\\n Training Accuracy : {:7.3f}\\n Training Loss : {:7.3f}\\n Validation Accuracy : {:7.3f}\\n Validation Loss : {:7.3f}\\n'.format(epoch+1,epoch_logs['acc'],epoch_logs['loss'],\n",
        "                                                                                                                                                 epoch_logs['val_acc'],epoch_logs['val_loss'])\n",
        "\n",
        "    self.send_message(message)\n",
        "    self.check_stop()\n",
        "\n",
        "  def on_train_end(self, logs=None):\n",
        "    self.send_message(\"Training Completed!\")\n",
        "\n",
        "  def on_test_end(self,logs=None):\n",
        "    self.send_message('Test results: Accuracy of {:7.3f}% '.format(logs['acc']*100))"
      ]
    },
    {
      "cell_type": "code",
      "execution_count": null,
      "metadata": {
        "id": "doxooHfDPp8V"
      },
      "outputs": [],
      "source": [
        "bot_callback = botCallback(personal_token)"
      ]
    },
    {
      "cell_type": "code",
      "execution_count": null,
      "metadata": {
        "colab": {
          "base_uri": "https://localhost:8080/"
        },
        "id": "YfTSqYR1oqYg",
        "outputId": "64ff3751-1888-4c93-a6b5-f91a457cd9fd"
      },
      "outputs": [
        {
          "name": "stdout",
          "output_type": "stream",
          "text": [
            "Mounted at /content/drive\n"
          ]
        }
      ],
      "source": [
        "drive.mount('/content/drive')"
      ]
    },
    {
      "cell_type": "code",
      "execution_count": null,
      "metadata": {
        "id": "77dE7ceCGiEV"
      },
      "outputs": [],
      "source": [
        "data_dir = pathlib.Path('/content/drive/MyDrive/DSSS HW9 DataSet/Images_Real')\n",
        "\n",
        "def data_loader():\n",
        "  global train_ds\n",
        "  train_ds = tf.keras.preprocessing.image_dataset_from_directory(\n",
        "    data_dir,\n",
        "    validation_split=0.2,\n",
        "    subset=\"training\",\n",
        "    seed=123,\n",
        "    image_size=(256, 256),\n",
        "    batch_size=32)\n",
        "\n",
        "  global val_ds\n",
        "  val_ds = tf.keras.preprocessing.image_dataset_from_directory(\n",
        "      data_dir,\n",
        "      validation_split=0.1,\n",
        "      subset=\"validation\",\n",
        "      seed=123,\n",
        "      image_size=(256, 256),\n",
        "      batch_size=32)\n",
        "\n",
        "  global test_ds\n",
        "  test_ds = tf.keras.preprocessing.image_dataset_from_directory(\n",
        "      data_dir,\n",
        "      validation_split=0.1,\n",
        "      subset=\"validation\",\n",
        "      seed=123,\n",
        "      image_size=(256, 256),\n",
        "      batch_size=32)"
      ]
    },
    {
      "cell_type": "code",
      "execution_count": null,
      "metadata": {
        "colab": {
          "base_uri": "https://localhost:8080/"
        },
        "id": "J3oT18JeHcqq",
        "outputId": "4beea644-161a-4520-befb-20d267496249"
      },
      "outputs": [
        {
          "name": "stdout",
          "output_type": "stream",
          "text": [
            "Found 3000 files belonging to 3 classes.\n",
            "Using 2400 files for training.\n",
            "Found 3000 files belonging to 3 classes.\n",
            "Using 300 files for validation.\n",
            "Found 3000 files belonging to 3 classes.\n",
            "Using 300 files for validation.\n"
          ]
        }
      ],
      "source": [
        "data_loader()"
      ]
    },
    {
      "cell_type": "code",
      "execution_count": null,
      "metadata": {
        "colab": {
          "base_uri": "https://localhost:8080/"
        },
        "id": "J8b9YEsvpNtv",
        "outputId": "69be8ef1-5dc3-4f2b-ca56-ae6f559f1238"
      },
      "outputs": [
        {
          "name": "stdout",
          "output_type": "stream",
          "text": [
            "['Cat', 'Dog', 'Siamese']\n"
          ]
        }
      ],
      "source": [
        "class_names = train_ds.class_names\n",
        "print(class_names)"
      ]
    },
    {
      "cell_type": "markdown",
      "metadata": {
        "id": "29SInZRYpTpe"
      },
      "source": [
        "# **Training Model:**"
      ]
    },
    {
      "cell_type": "code",
      "execution_count": null,
      "metadata": {
        "colab": {
          "base_uri": "https://localhost:8080/"
        },
        "id": "42VOsk7MpQr4",
        "outputId": "a0457a53-94c6-419d-9a07-810b3063b700"
      },
      "outputs": [
        {
          "name": "stdout",
          "output_type": "stream",
          "text": [
            "Downloading data from https://storage.googleapis.com/tensorflow/keras-applications/resnet/resnet50_weights_tf_dim_ordering_tf_kernels_notop.h5\n",
            "94765736/94765736 [==============================] - 5s 0us/step\n"
          ]
        }
      ],
      "source": [
        "resnet_model = Sequential()\n",
        "\n",
        "pretrained_model= ResNet50(include_top=False,\n",
        "                   input_shape=(256,256,3),\n",
        "                   pooling='max',\n",
        "                   classes=3,\n",
        "                   weights='imagenet')\n",
        "\n",
        "for layer in pretrained_model.layers:\n",
        "        layer.trainable=False\n",
        "\n",
        "resnet_model.add(pretrained_model)\n",
        "resnet_model.add(Flatten())\n",
        "resnet_model.add(Dense(64, activation='relu'))\n",
        "resnet_model.add(Dense(128, activation='relu'))\n",
        "resnet_model.add(Dense(256, activation='relu'))\n",
        "resnet_model.add(Dense(512, activation='relu'))\n",
        "resnet_model.add(Dropout(0.2)) # This is the layer that i added\n",
        "resnet_model.add(Dense(3, activation='softmax'))"
      ]
    },
    {
      "cell_type": "code",
      "execution_count": null,
      "metadata": {
        "colab": {
          "base_uri": "https://localhost:8080/"
        },
        "id": "ATlpcwBnpbyS",
        "outputId": "de043a6b-5305-499d-b2c5-73dbacfae51b"
      },
      "outputs": [
        {
          "name": "stdout",
          "output_type": "stream",
          "text": [
            "Model: \"sequential\"\n",
            "_________________________________________________________________\n",
            " Layer (type)                Output Shape              Param #   \n",
            "=================================================================\n",
            " resnet50 (Functional)       (None, 2048)              23587712  \n",
            "                                                                 \n",
            " module_wrapper (ModuleWrapp  (None, 2048)             0         \n",
            " er)                                                             \n",
            "                                                                 \n",
            " module_wrapper_1 (ModuleWra  (None, 64)               131136    \n",
            " pper)                                                           \n",
            "                                                                 \n",
            " module_wrapper_2 (ModuleWra  (None, 128)              8320      \n",
            " pper)                                                           \n",
            "                                                                 \n",
            " module_wrapper_3 (ModuleWra  (None, 256)              33024     \n",
            " pper)                                                           \n",
            "                                                                 \n",
            " module_wrapper_4 (ModuleWra  (None, 512)              131584    \n",
            " pper)                                                           \n",
            "                                                                 \n",
            " module_wrapper_5 (ModuleWra  (None, 512)              0         \n",
            " pper)                                                           \n",
            "                                                                 \n",
            " module_wrapper_6 (ModuleWra  (None, 3)                1539      \n",
            " pper)                                                           \n",
            "                                                                 \n",
            "=================================================================\n",
            "Total params: 23,893,315\n",
            "Trainable params: 305,603\n",
            "Non-trainable params: 23,587,712\n",
            "_________________________________________________________________\n"
          ]
        }
      ],
      "source": [
        "resnet_model.summary()"
      ]
    },
    {
      "cell_type": "code",
      "execution_count": null,
      "metadata": {
        "id": "Kp31eTw5pemS"
      },
      "outputs": [],
      "source": [
        "resnet_model.compile(optimizer=Adam(learning_rate=0.001),loss='sparse_categorical_crossentropy',metrics=['acc'])"
      ]
    },
    {
      "cell_type": "code",
      "execution_count": null,
      "metadata": {
        "colab": {
          "base_uri": "https://localhost:8080/"
        },
        "id": "xFe9hiQSpggl",
        "outputId": "e5448d7c-19ce-40e2-97ae-a53b70ab7994"
      },
      "outputs": [
        {
          "name": "stdout",
          "output_type": "stream",
          "text": [
            "Epoch 1/10\n",
            "75/75 [==============================] - 579s 7s/step - loss: 0.3171 - acc: 0.9004 - val_loss: 0.0862 - val_acc: 0.9767\n",
            "Epoch 2/10\n",
            "75/75 [==============================] - 15s 189ms/step - loss: 0.0444 - acc: 0.9829 - val_loss: 0.0731 - val_acc: 0.9800\n",
            "Epoch 3/10\n",
            "75/75 [==============================] - 14s 185ms/step - loss: 0.0232 - acc: 0.9929 - val_loss: 0.0682 - val_acc: 0.9800\n",
            "Epoch 4/10\n",
            "75/75 [==============================] - 14s 183ms/step - loss: 0.0082 - acc: 0.9958 - val_loss: 0.0882 - val_acc: 0.9800\n",
            "Epoch 5/10\n",
            "75/75 [==============================] - 14s 184ms/step - loss: 0.0269 - acc: 0.9925 - val_loss: 0.1862 - val_acc: 0.9433\n",
            "Epoch 6/10\n",
            "75/75 [==============================] - 14s 188ms/step - loss: 0.0384 - acc: 0.9879 - val_loss: 0.0742 - val_acc: 0.9833\n",
            "Epoch 7/10\n",
            "75/75 [==============================] - 14s 183ms/step - loss: 0.0356 - acc: 0.9904 - val_loss: 0.0574 - val_acc: 0.9900\n",
            "Epoch 8/10\n",
            "75/75 [==============================] - 15s 190ms/step - loss: 0.0129 - acc: 0.9950 - val_loss: 0.0825 - val_acc: 0.9900\n",
            "Epoch 9/10\n",
            "75/75 [==============================] - 14s 185ms/step - loss: 0.0158 - acc: 0.9958 - val_loss: 0.0974 - val_acc: 0.9833\n",
            "Epoch 10/10\n",
            "75/75 [==============================] - 14s 185ms/step - loss: 0.0337 - acc: 0.9921 - val_loss: 0.0822 - val_acc: 0.9800\n"
          ]
        }
      ],
      "source": [
        "history = resnet_model.fit(train_ds, validation_data=val_ds, epochs=10, callbacks = bot_callback)"
      ]
    },
    {
      "cell_type": "markdown",
      "metadata": {
        "id": "GMN9vuppLLvK"
      },
      "source": [
        "## Evaluating the Model"
      ]
    },
    {
      "cell_type": "markdown",
      "metadata": {
        "id": "K0T9G4xdLa4u"
      },
      "source": [
        "# Making predictions"
      ]
    },
    {
      "cell_type": "code",
      "execution_count": null,
      "metadata": {
        "id": "6t6RER6yuGcs"
      },
      "outputs": [],
      "source": [
        "pred = resnet_model.predict(test_ds)\n",
        "print(pred)"
      ]
    },
    {
      "cell_type": "code",
      "execution_count": null,
      "metadata": {
        "colab": {
          "base_uri": "https://localhost:8080/"
        },
        "id": "x8XNqj_4uN01",
        "outputId": "a3ca7835-9c28-47f1-fcd1-8d649d59504a"
      },
      "outputs": [
        {
          "name": "stdout",
          "output_type": "stream",
          "text": [
            "10/10 [==============================] - 3s 218ms/step - loss: 0.0822 - acc: 0.9800\n"
          ]
        },
        {
          "data": {
            "text/plain": [
              "[0.08220073580741882, 0.9800000190734863]"
            ]
          },
          "execution_count": 21,
          "metadata": {},
          "output_type": "execute_result"
        }
      ],
      "source": [
        "resnet_model.evaluate(test_ds, callbacks = bot_callback)"
      ]
    },
    {
      "cell_type": "code",
      "execution_count": null,
      "metadata": {
        "id": "nf1TUKa5unaB"
      },
      "outputs": [],
      "source": []
    }
  ],
  "metadata": {
    "accelerator": "GPU",
    "colab": {
      "provenance": []
    },
    "gpuClass": "standard",
    "kernelspec": {
      "display_name": "Python 3",
      "name": "python3"
    },
    "language_info": {
      "name": "python"
    }
  },
  "nbformat": 4,
  "nbformat_minor": 0
}