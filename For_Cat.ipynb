{
  "cells": [
    {
      "cell_type": "code",
      "execution_count": null,
      "id": "14c4ab3c",
      "metadata": {
        "id": "14c4ab3c"
      },
      "outputs": [],
      "source": [
        "import flickrapi\n",
        "import urllib\n",
        "from PIL import Image\n",
        "import os\n",
        "from tqdm.notebook import tqdm, trange\n",
        "import time"
      ]
    },
    {
      "cell_type": "code",
      "execution_count": null,
      "id": "febd29e4",
      "metadata": {
        "id": "febd29e4"
      },
      "outputs": [],
      "source": [
        "key = 'c6a2c45591d4973ff525042472446ca2'\n",
        "secret = '202ffe6f387ce29b'"
      ]
    },
    {
      "cell_type": "code",
      "execution_count": null,
      "id": "fdd6fa7f",
      "metadata": {
        "id": "fdd6fa7f"
      },
      "outputs": [],
      "source": [
        "flickr=flickrapi.FlickrAPI(key, secret, cache=True)\n",
        "keyword = 'cat'\n",
        "photos = flickr.walk(text=keyword,\n",
        "                     tag_mode='all',\n",
        "                     tags=keyword,\n",
        "                     extras='url_c',\n",
        "                     per_page=100,\n",
        "                     sort='relevance')\n",
        "\n",
        "urls = []\n",
        "total = 0\n",
        "cat_dir = 'Cat'\n",
        "for i, photo in enumerate(photos):\n",
        "    if total == 1000:\n",
        "        break\n",
        "    try:\n",
        "        url = photo.get('url_c')\n",
        "        urls.append(url)\n",
        "        filepath = os.path.join(cat_dir, f'cat_{total}.jpg')\n",
        "        urllib.request.urlretrieve(url, filepath)\n",
        "        image = Image.open(cat_dir+'/'+f'cat_{total}.jpg')\n",
        "        image = image.resize((256, 256), Image.Resampling.LANCZOS)\n",
        "        image.save(cat_dir+'/'+f'cat_{total}.jpg')\n",
        "        total += 1\n",
        "    except:\n",
        "        pass"
      ]
    },
    {
      "cell_type": "code",
      "execution_count": null,
      "id": "81c7470c",
      "metadata": {
        "id": "81c7470c"
      },
      "outputs": [],
      "source": []
    }
  ],
  "metadata": {
    "kernelspec": {
      "display_name": "Python 3 (ipykernel)",
      "language": "python",
      "name": "python3"
    },
    "language_info": {
      "codemirror_mode": {
        "name": "ipython",
        "version": 3
      },
      "file_extension": ".py",
      "mimetype": "text/x-python",
      "name": "python",
      "nbconvert_exporter": "python",
      "pygments_lexer": "ipython3",
      "version": "3.10.4"
    },
    "colab": {
      "provenance": []
    }
  },
  "nbformat": 4,
  "nbformat_minor": 5
}